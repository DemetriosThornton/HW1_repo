{
 "cells": [
  {
   "cell_type": "code",
   "execution_count": 1,
   "id": "6cc8f4b4-adee-48c1-a4dd-34fabd156508",
   "metadata": {
    "scrolled": true
   },
   "outputs": [
    {
     "name": "stdout",
     "output_type": "stream",
     "text": [
      "Requirement already satisfied: geopandas in c:\\users\\demet\\anaconda3\\lib\\site-packages (1.0.1)\n",
      "Requirement already satisfied: numpy>=1.22 in c:\\users\\demet\\anaconda3\\lib\\site-packages (from geopandas) (1.26.4)\n",
      "Requirement already satisfied: pyogrio>=0.7.2 in c:\\users\\demet\\anaconda3\\lib\\site-packages (from geopandas) (0.10.0)\n",
      "Requirement already satisfied: packaging in c:\\users\\demet\\anaconda3\\lib\\site-packages (from geopandas) (24.1)\n",
      "Requirement already satisfied: pandas>=1.4.0 in c:\\users\\demet\\anaconda3\\lib\\site-packages (from geopandas) (2.2.2)\n",
      "Requirement already satisfied: pyproj>=3.3.0 in c:\\users\\demet\\anaconda3\\lib\\site-packages (from geopandas) (3.7.1)\n",
      "Requirement already satisfied: shapely>=2.0.0 in c:\\users\\demet\\anaconda3\\lib\\site-packages (from geopandas) (2.0.7)\n",
      "Requirement already satisfied: python-dateutil>=2.8.2 in c:\\users\\demet\\anaconda3\\lib\\site-packages (from pandas>=1.4.0->geopandas) (2.9.0.post0)\n",
      "Requirement already satisfied: pytz>=2020.1 in c:\\users\\demet\\anaconda3\\lib\\site-packages (from pandas>=1.4.0->geopandas) (2024.1)\n",
      "Requirement already satisfied: tzdata>=2022.7 in c:\\users\\demet\\anaconda3\\lib\\site-packages (from pandas>=1.4.0->geopandas) (2023.3)\n",
      "Requirement already satisfied: certifi in c:\\users\\demet\\anaconda3\\lib\\site-packages (from pyogrio>=0.7.2->geopandas) (2025.1.31)\n",
      "Requirement already satisfied: six>=1.5 in c:\\users\\demet\\anaconda3\\lib\\site-packages (from python-dateutil>=2.8.2->pandas>=1.4.0->geopandas) (1.16.0)\n",
      "Requirement already satisfied: mapclassify in c:\\users\\demet\\anaconda3\\lib\\site-packages (2.8.1)\n",
      "Requirement already satisfied: networkx>=2.7 in c:\\users\\demet\\anaconda3\\lib\\site-packages (from mapclassify) (3.3)\n",
      "Requirement already satisfied: numpy>=1.23 in c:\\users\\demet\\anaconda3\\lib\\site-packages (from mapclassify) (1.26.4)\n",
      "Requirement already satisfied: pandas!=1.5.0,>=1.4 in c:\\users\\demet\\anaconda3\\lib\\site-packages (from mapclassify) (2.2.2)\n",
      "Requirement already satisfied: scikit-learn>=1.0 in c:\\users\\demet\\anaconda3\\lib\\site-packages (from mapclassify) (1.5.1)\n",
      "Requirement already satisfied: scipy>=1.8 in c:\\users\\demet\\anaconda3\\lib\\site-packages (from mapclassify) (1.13.1)\n",
      "Requirement already satisfied: python-dateutil>=2.8.2 in c:\\users\\demet\\anaconda3\\lib\\site-packages (from pandas!=1.5.0,>=1.4->mapclassify) (2.9.0.post0)\n",
      "Requirement already satisfied: pytz>=2020.1 in c:\\users\\demet\\anaconda3\\lib\\site-packages (from pandas!=1.5.0,>=1.4->mapclassify) (2024.1)\n",
      "Requirement already satisfied: tzdata>=2022.7 in c:\\users\\demet\\anaconda3\\lib\\site-packages (from pandas!=1.5.0,>=1.4->mapclassify) (2023.3)\n",
      "Requirement already satisfied: joblib>=1.2.0 in c:\\users\\demet\\anaconda3\\lib\\site-packages (from scikit-learn>=1.0->mapclassify) (1.4.2)\n",
      "Requirement already satisfied: threadpoolctl>=3.1.0 in c:\\users\\demet\\anaconda3\\lib\\site-packages (from scikit-learn>=1.0->mapclassify) (3.5.0)\n",
      "Requirement already satisfied: six>=1.5 in c:\\users\\demet\\anaconda3\\lib\\site-packages (from python-dateutil>=2.8.2->pandas!=1.5.0,>=1.4->mapclassify) (1.16.0)\n",
      "Requirement already satisfied: numpy in c:\\users\\demet\\anaconda3\\lib\\site-packages (1.26.4)\n",
      "Requirement already satisfied: pandas in c:\\users\\demet\\anaconda3\\lib\\site-packages (2.2.2)\n",
      "Requirement already satisfied: numpy>=1.26.0 in c:\\users\\demet\\anaconda3\\lib\\site-packages (from pandas) (1.26.4)\n",
      "Requirement already satisfied: python-dateutil>=2.8.2 in c:\\users\\demet\\anaconda3\\lib\\site-packages (from pandas) (2.9.0.post0)\n",
      "Requirement already satisfied: pytz>=2020.1 in c:\\users\\demet\\anaconda3\\lib\\site-packages (from pandas) (2024.1)\n",
      "Requirement already satisfied: tzdata>=2022.7 in c:\\users\\demet\\anaconda3\\lib\\site-packages (from pandas) (2023.3)\n",
      "Requirement already satisfied: six>=1.5 in c:\\users\\demet\\anaconda3\\lib\\site-packages (from python-dateutil>=2.8.2->pandas) (1.16.0)\n"
     ]
    }
   ],
   "source": [
    "!pip install geopandas \n",
    "!pip install mapclassify\n",
    "!pip install numpy\n",
    "!pip install pandas\n",
    "\n",
    "import geopandas as gpd\n",
    "import mapclassify as mc\n",
    "import numpy as np\n",
    "import pandas as pd"
   ]
  },
  {
   "cell_type": "code",
   "execution_count": null,
   "id": "d8545415-ee51-4f75-b85e-dad550942858",
   "metadata": {},
   "outputs": [],
   "source": [
    "file_url = \"https://github.com/DACSS-CSSmeths/Spatial-Exploring/raw/refs/heads/main/maps/countriesCIA.gpkg\"\n",
    "gdf = gpd.read_file(file_url)\n",
    "\n",
    "print(gdf.columns)"
   ]
  },
  {
   "cell_type": "code",
   "execution_count": 3,
   "id": "3cf0ab0e-89dc-4deb-bfc7-fc9cab93af35",
   "metadata": {},
   "outputs": [
    {
     "data": {
      "text/plain": [
       "<Axes: ylabel='Classifier'>"
      ]
     },
     "execution_count": 3,
     "metadata": {},
     "output_type": "execute_result"
    },
    {
     "data": {
      "image/png": "[encoded data removed]",
      "text/plain": [
       "<Figure size 640x480 with 1 Axes>"
      ]
     },
     "metadata": {},
     "output_type": "display_data"
    }
   ],
   "source": [
    "np.random.seed(12345)\n",
    "\n",
    "K = 5\n",
    "\n",
    "OBS = gdf[\"obesityAdults_rate\"]\n",
    "\n",
    "ei5 = mc.EqualInterval(OBS, k=K)\n",
    "msd = mc.StdMean(OBS)\n",
    "q5 = mc.Quantiles(OBS, k=K)\n",
    "mb5 = mc.MaximumBreaks(OBS, k=K)\n",
    "fj5 = mc.FisherJenks(OBS, k=K)\n",
    "jc5 = mc.JenksCaspall(OBS, k=K)\n",
    "mp5 = mc.MaxP(OBS, k=K)\n",
    "ht = mc.HeadTailBreaks(OBS) \n",
    "\n",
    "classifiers = [ei5, msd, q5, mb5, fj5, jc5, mp5, ht]\n",
    "fits = np.array([c.adcm for c in classifiers])\n",
    "\n",
    "adcms = pd.DataFrame(fits, columns=[\"ADCM\"])\n",
    "adcms[\"Classifier\"] = [c.name for c in classifiers]\n",
    "\n",
    "adcms.columns = ['ADCM', 'Classifier']\n",
    "adcms.sort_values('ADCM').plot.barh(x='Classifier')"
   ]
  },
  {
   "cell_type": "code",
   "execution_count": 9,
   "id": "747460f7-bb0d-489a-b2e1-44efe4fae3fa",
   "metadata": {},
   "outputs": [
    {
     "name": "stdout",
     "output_type": "stream",
     "text": [
      "\n",
      "--- Best Performing Countries ---\n",
      "        COUNTRY  obesityAdults_rate  Alcohol_LitersPerCap  TobaccoUse_perc\n",
      "17        Benin                 9.6                  1.25              6.9\n",
      "26         Chad                 6.1                  0.55              8.3\n",
      "42      Eritrea                 5.0                  0.93              7.5\n",
      "44     Ethiopia                 4.5                  1.16              5.1\n",
      "49        Ghana                10.9                  1.59              3.5\n",
      "83         Mali                 8.6                  0.60              8.3\n",
      "86   Mauritania                12.7                  0.00             10.7\n",
      "94        Niger                 5.5                  0.11              7.4\n",
      "118     Senegal                 8.8                  0.25              6.9\n",
      "128        Togo                 8.4                  1.40              6.8\n"
     ]
    }
   ],
   "source": [
    "fj_obesity = mc.FisherJenks(gdf[\"obesityAdults_rate\"], k=K)\n",
    "gdf[\"obesity_bin\"] = fj_obesity.yb  # Assign bin labels\n",
    "\n",
    "fj_alcohol = mc.FisherJenks(gdf[\"Alcohol_LitersPerCap\"], k=K)\n",
    "gdf[\"alcohol_bin\"] = fj_alcohol.yb  \n",
    "\n",
    "fj_tobacco = mc.FisherJenks(gdf[\"TobaccoUse_perc\"], k=K)\n",
    "gdf[\"tobacco_bin\"] = fj_tobacco.yb  \n",
    "\n",
    "best_countries = gdf[(gdf[\"obesity_bin\"] == 0) & \n",
    "                     (gdf[\"alcohol_bin\"] == 0) & \n",
    "                     (gdf[\"tobacco_bin\"] == 0)]\n",
    "\n",
    "print(\"\\n--- Best Performing Countries ---\")\n",
    "print(best_countries[[\"COUNTRY\", \"obesityAdults_rate\", \"Alcohol_LitersPerCap\", \"TobaccoUse_perc\"]])"
   ]
  },
  {
   "cell_type": "code",
   "execution_count": 15,
   "id": "34200b3c-e07a-4457-a510-34682a0eda23",
   "metadata": {},
   "outputs": [
    {
     "ename": "DataSourceError",
     "evalue": "sqlite3_open(maps/gdf.gpkg) failed: unable to open database file",
     "output_type": "error",
     "traceback": [
      "\u001b[1;31m---------------------------------------------------------------------------\u001b[0m",
      "\u001b[1;31mCPLE_OpenFailedError\u001b[0m                      Traceback (most recent call last)",
      "File \u001b[1;32mpyogrio\\\\_io.pyx:1947\u001b[0m, in \u001b[0;36mpyogrio._io.ogr_create\u001b[1;34m()\u001b[0m\n",
      "File \u001b[1;32mpyogrio\\\\_err.pyx:183\u001b[0m, in \u001b[0;36mpyogrio._err.exc_wrap_pointer\u001b[1;34m()\u001b[0m\n",
      "\u001b[1;31mCPLE_OpenFailedError\u001b[0m: sqlite3_open(maps/gdf.gpkg) failed: unable to open database file",
      "\nDuring handling of the above exception, another exception occurred:\n",
      "\u001b[1;31mDataSourceError\u001b[0m                           Traceback (most recent call last)",
      "Cell \u001b[1;32mIn[15], line 1\u001b[0m\n\u001b[1;32m----> 1\u001b[0m gdf\u001b[38;5;241m.\u001b[39mto_file(\u001b[38;5;124m'\u001b[39m\u001b[38;5;124mmaps/gdf.gpkg\u001b[39m\u001b[38;5;124m'\u001b[39m,driver\u001b[38;5;241m=\u001b[39m\u001b[38;5;124m'\u001b[39m\u001b[38;5;124mGPKG\u001b[39m\u001b[38;5;124m'\u001b[39m,layer\u001b[38;5;241m=\u001b[39m\u001b[38;5;124m'\u001b[39m\u001b[38;5;124mcia\u001b[39m\u001b[38;5;124m'\u001b[39m)\n",
      "File \u001b[1;32m~\\anaconda3\\Lib\\site-packages\\geopandas\\geodataframe.py:1536\u001b[0m, in \u001b[0;36mGeoDataFrame.to_file\u001b[1;34m(self, filename, driver, schema, index, **kwargs)\u001b[0m\n\u001b[0;32m   1441\u001b[0m \u001b[38;5;250m\u001b[39m\u001b[38;5;124;03m\"\"\"Write the ``GeoDataFrame`` to a file.\u001b[39;00m\n\u001b[0;32m   1442\u001b[0m \n\u001b[0;32m   1443\u001b[0m \u001b[38;5;124;03mBy default, an ESRI shapefile is written, but any OGR data source\u001b[39;00m\n\u001b[1;32m   (...)\u001b[0m\n\u001b[0;32m   1532\u001b[0m \n\u001b[0;32m   1533\u001b[0m \u001b[38;5;124;03m\"\"\"\u001b[39;00m\n\u001b[0;32m   1534\u001b[0m \u001b[38;5;28;01mfrom\u001b[39;00m \u001b[38;5;21;01mgeopandas\u001b[39;00m\u001b[38;5;21;01m.\u001b[39;00m\u001b[38;5;21;01mio\u001b[39;00m\u001b[38;5;21;01m.\u001b[39;00m\u001b[38;5;21;01mfile\u001b[39;00m \u001b[38;5;28;01mimport\u001b[39;00m _to_file\n\u001b[1;32m-> 1536\u001b[0m _to_file(\u001b[38;5;28mself\u001b[39m, filename, driver, schema, index, \u001b[38;5;241m*\u001b[39m\u001b[38;5;241m*\u001b[39mkwargs)\n",
      "File \u001b[1;32m~\\anaconda3\\Lib\\site-packages\\geopandas\\io\\file.py:686\u001b[0m, in \u001b[0;36m_to_file\u001b[1;34m(df, filename, driver, schema, index, mode, crs, engine, metadata, **kwargs)\u001b[0m\n\u001b[0;32m    683\u001b[0m     \u001b[38;5;28;01mraise\u001b[39;00m \u001b[38;5;167;01mValueError\u001b[39;00m(\u001b[38;5;124mf\u001b[39m\u001b[38;5;124m\"\u001b[39m\u001b[38;5;124m'\u001b[39m\u001b[38;5;124mmode\u001b[39m\u001b[38;5;124m'\u001b[39m\u001b[38;5;124m should be one of \u001b[39m\u001b[38;5;124m'\u001b[39m\u001b[38;5;124mw\u001b[39m\u001b[38;5;124m'\u001b[39m\u001b[38;5;124m or \u001b[39m\u001b[38;5;124m'\u001b[39m\u001b[38;5;124ma\u001b[39m\u001b[38;5;124m'\u001b[39m\u001b[38;5;124m, got \u001b[39m\u001b[38;5;124m'\u001b[39m\u001b[38;5;132;01m{\u001b[39;00mmode\u001b[38;5;132;01m}\u001b[39;00m\u001b[38;5;124m'\u001b[39m\u001b[38;5;124m instead\u001b[39m\u001b[38;5;124m\"\u001b[39m)\n\u001b[0;32m    685\u001b[0m \u001b[38;5;28;01mif\u001b[39;00m engine \u001b[38;5;241m==\u001b[39m \u001b[38;5;124m\"\u001b[39m\u001b[38;5;124mpyogrio\u001b[39m\u001b[38;5;124m\"\u001b[39m:\n\u001b[1;32m--> 686\u001b[0m     _to_file_pyogrio(df, filename, driver, schema, crs, mode, metadata, \u001b[38;5;241m*\u001b[39m\u001b[38;5;241m*\u001b[39mkwargs)\n\u001b[0;32m    687\u001b[0m \u001b[38;5;28;01melif\u001b[39;00m engine \u001b[38;5;241m==\u001b[39m \u001b[38;5;124m\"\u001b[39m\u001b[38;5;124mfiona\u001b[39m\u001b[38;5;124m\"\u001b[39m:\n\u001b[0;32m    688\u001b[0m     _to_file_fiona(df, filename, driver, schema, crs, mode, metadata, \u001b[38;5;241m*\u001b[39m\u001b[38;5;241m*\u001b[39mkwargs)\n",
      "File \u001b[1;32m~\\anaconda3\\Lib\\site-packages\\geopandas\\io\\file.py:748\u001b[0m, in \u001b[0;36m_to_file_pyogrio\u001b[1;34m(df, filename, driver, schema, crs, mode, metadata, **kwargs)\u001b[0m\n\u001b[0;32m    745\u001b[0m \u001b[38;5;28;01mif\u001b[39;00m \u001b[38;5;129;01mnot\u001b[39;00m df\u001b[38;5;241m.\u001b[39mcolumns\u001b[38;5;241m.\u001b[39mis_unique:\n\u001b[0;32m    746\u001b[0m     \u001b[38;5;28;01mraise\u001b[39;00m \u001b[38;5;167;01mValueError\u001b[39;00m(\u001b[38;5;124m\"\u001b[39m\u001b[38;5;124mGeoDataFrame cannot contain duplicated column names.\u001b[39m\u001b[38;5;124m\"\u001b[39m)\n\u001b[1;32m--> 748\u001b[0m pyogrio\u001b[38;5;241m.\u001b[39mwrite_dataframe(df, filename, driver\u001b[38;5;241m=\u001b[39mdriver, metadata\u001b[38;5;241m=\u001b[39mmetadata, \u001b[38;5;241m*\u001b[39m\u001b[38;5;241m*\u001b[39mkwargs)\n",
      "File \u001b[1;32m~\\anaconda3\\Lib\\site-packages\\pyogrio\\geopandas.py:662\u001b[0m, in \u001b[0;36mwrite_dataframe\u001b[1;34m(df, path, layer, driver, encoding, geometry_type, promote_to_multi, nan_as_null, append, use_arrow, dataset_metadata, layer_metadata, metadata, dataset_options, layer_options, **kwargs)\u001b[0m\n\u001b[0;32m    659\u001b[0m \u001b[38;5;28;01mif\u001b[39;00m geometry_column \u001b[38;5;129;01mis\u001b[39;00m \u001b[38;5;129;01mnot\u001b[39;00m \u001b[38;5;28;01mNone\u001b[39;00m:\n\u001b[0;32m    660\u001b[0m     geometry \u001b[38;5;241m=\u001b[39m to_wkb(geometry\u001b[38;5;241m.\u001b[39mvalues)\n\u001b[1;32m--> 662\u001b[0m write(\n\u001b[0;32m    663\u001b[0m     path,\n\u001b[0;32m    664\u001b[0m     layer\u001b[38;5;241m=\u001b[39mlayer,\n\u001b[0;32m    665\u001b[0m     driver\u001b[38;5;241m=\u001b[39mdriver,\n\u001b[0;32m    666\u001b[0m     geometry\u001b[38;5;241m=\u001b[39mgeometry,\n\u001b[0;32m    667\u001b[0m     field_data\u001b[38;5;241m=\u001b[39mfield_data,\n\u001b[0;32m    668\u001b[0m     field_mask\u001b[38;5;241m=\u001b[39mfield_mask,\n\u001b[0;32m    669\u001b[0m     fields\u001b[38;5;241m=\u001b[39mfields,\n\u001b[0;32m    670\u001b[0m     crs\u001b[38;5;241m=\u001b[39mcrs,\n\u001b[0;32m    671\u001b[0m     geometry_type\u001b[38;5;241m=\u001b[39mgeometry_type,\n\u001b[0;32m    672\u001b[0m     encoding\u001b[38;5;241m=\u001b[39mencoding,\n\u001b[0;32m    673\u001b[0m     promote_to_multi\u001b[38;5;241m=\u001b[39mpromote_to_multi,\n\u001b[0;32m    674\u001b[0m     nan_as_null\u001b[38;5;241m=\u001b[39mnan_as_null,\n\u001b[0;32m    675\u001b[0m     append\u001b[38;5;241m=\u001b[39mappend,\n\u001b[0;32m    676\u001b[0m     dataset_metadata\u001b[38;5;241m=\u001b[39mdataset_metadata,\n\u001b[0;32m    677\u001b[0m     layer_metadata\u001b[38;5;241m=\u001b[39mlayer_metadata,\n\u001b[0;32m    678\u001b[0m     metadata\u001b[38;5;241m=\u001b[39mmetadata,\n\u001b[0;32m    679\u001b[0m     dataset_options\u001b[38;5;241m=\u001b[39mdataset_options,\n\u001b[0;32m    680\u001b[0m     layer_options\u001b[38;5;241m=\u001b[39mlayer_options,\n\u001b[0;32m    681\u001b[0m     gdal_tz_offsets\u001b[38;5;241m=\u001b[39mgdal_tz_offsets,\n\u001b[0;32m    682\u001b[0m     \u001b[38;5;241m*\u001b[39m\u001b[38;5;241m*\u001b[39mkwargs,\n\u001b[0;32m    683\u001b[0m )\n",
      "File \u001b[1;32m~\\anaconda3\\Lib\\site-packages\\pyogrio\\raw.py:723\u001b[0m, in \u001b[0;36mwrite\u001b[1;34m(path, geometry, field_data, fields, field_mask, layer, driver, geometry_type, crs, encoding, promote_to_multi, nan_as_null, append, dataset_metadata, layer_metadata, metadata, dataset_options, layer_options, gdal_tz_offsets, **kwargs)\u001b[0m\n\u001b[0;32m    718\u001b[0m \u001b[38;5;66;03m# preprocess kwargs and split in dataset and layer creation options\u001b[39;00m\n\u001b[0;32m    719\u001b[0m dataset_kwargs, layer_kwargs \u001b[38;5;241m=\u001b[39m _preprocess_options_kwargs(\n\u001b[0;32m    720\u001b[0m     driver, dataset_options, layer_options, kwargs\n\u001b[0;32m    721\u001b[0m )\n\u001b[1;32m--> 723\u001b[0m ogr_write(\n\u001b[0;32m    724\u001b[0m     path,\n\u001b[0;32m    725\u001b[0m     layer\u001b[38;5;241m=\u001b[39mlayer,\n\u001b[0;32m    726\u001b[0m     driver\u001b[38;5;241m=\u001b[39mdriver,\n\u001b[0;32m    727\u001b[0m     geometry\u001b[38;5;241m=\u001b[39mgeometry,\n\u001b[0;32m    728\u001b[0m     geometry_type\u001b[38;5;241m=\u001b[39mgeometry_type,\n\u001b[0;32m    729\u001b[0m     field_data\u001b[38;5;241m=\u001b[39mfield_data,\n\u001b[0;32m    730\u001b[0m     field_mask\u001b[38;5;241m=\u001b[39mfield_mask,\n\u001b[0;32m    731\u001b[0m     fields\u001b[38;5;241m=\u001b[39mfields,\n\u001b[0;32m    732\u001b[0m     crs\u001b[38;5;241m=\u001b[39mcrs,\n\u001b[0;32m    733\u001b[0m     encoding\u001b[38;5;241m=\u001b[39mencoding,\n\u001b[0;32m    734\u001b[0m     promote_to_multi\u001b[38;5;241m=\u001b[39mpromote_to_multi,\n\u001b[0;32m    735\u001b[0m     nan_as_null\u001b[38;5;241m=\u001b[39mnan_as_null,\n\u001b[0;32m    736\u001b[0m     append\u001b[38;5;241m=\u001b[39mappend,\n\u001b[0;32m    737\u001b[0m     dataset_metadata\u001b[38;5;241m=\u001b[39mdataset_metadata,\n\u001b[0;32m    738\u001b[0m     layer_metadata\u001b[38;5;241m=\u001b[39mlayer_metadata,\n\u001b[0;32m    739\u001b[0m     dataset_kwargs\u001b[38;5;241m=\u001b[39mdataset_kwargs,\n\u001b[0;32m    740\u001b[0m     layer_kwargs\u001b[38;5;241m=\u001b[39mlayer_kwargs,\n\u001b[0;32m    741\u001b[0m     gdal_tz_offsets\u001b[38;5;241m=\u001b[39mgdal_tz_offsets,\n\u001b[0;32m    742\u001b[0m )\n",
      "File \u001b[1;32mpyogrio\\\\_io.pyx:2307\u001b[0m, in \u001b[0;36mpyogrio._io.ogr_write\u001b[1;34m()\u001b[0m\n",
      "File \u001b[1;32mpyogrio\\\\_io.pyx:2135\u001b[0m, in \u001b[0;36mpyogrio._io.create_ogr_dataset_layer\u001b[1;34m()\u001b[0m\n",
      "File \u001b[1;32mpyogrio\\\\_io.pyx:1956\u001b[0m, in \u001b[0;36mpyogrio._io.ogr_create\u001b[1;34m()\u001b[0m\n",
      "\u001b[1;31mDataSourceError\u001b[0m: sqlite3_open(maps/gdf.gpkg) failed: unable to open database file"
     ]
    }
   ],
   "source": [
    "output_file = \"countriesCIA_updated.gpk\n",
    "\n",
    "gdf.to_file('maps/gdf.gpkg',driver='GPKG',layer='cia')"
   ]
  },
  {
   "cell_type": "code",
   "execution_count": null,
   "id": "1110b302-6246-48f0-b6bd-2d7f3a5e8be0",
   "metadata": {},
   "outputs": [],
   "source": []
  }
 ],
 "metadata": {
  "kernelspec": {
   "display_name": "Python [conda env:base] *",
   "language": "python",
   "name": "conda-base-py"
  },
  "language_info": {
   "codemirror_mode": {
    "name": "ipython",
    "version": 3
   },
   "file_extension": ".py",
   "mimetype": "text/x-python",
   "name": "python",
   "nbconvert_exporter": "python",
   "pygments_lexer": "ipython3",
   "version": "3.12.7"
  }
 },
 "nbformat": 4,
 "nbformat_minor": 5
}
